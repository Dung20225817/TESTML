{
 "cells": [
  {
   "cell_type": "code",
   "execution_count": 1,
   "id": "4511b69b",
   "metadata": {},
   "outputs": [],
   "source": [
    "from selenium import webdriver\n",
    "from selenium.webdriver.chrome.service import Service\n",
    "from selenium.webdriver.chrome.options import Options\n",
    "from selenium.webdriver.common.by import By\n",
    "from selenium.webdriver.support.ui import WebDriverWait\n",
    "from selenium.webdriver.support import expected_conditions as EC\n",
    "from selenium.webdriver.common.keys import Keys\n",
    "from bs4 import BeautifulSoup\n",
    "import pandas as pd\n",
    "import time\n",
    "import undetected_chromedriver as uc\n",
    "from datetime import datetime, timedelta"
   ]
  },
  {
   "cell_type": "code",
   "execution_count": 3,
   "id": "1f390e86",
   "metadata": {},
   "outputs": [
    {
     "ename": "InvalidSessionIdException",
     "evalue": "Message: invalid session id: session deleted as the browser has closed the connection\nfrom disconnected: unable to send message to renderer\n  (Session info: chrome=138.0.7204.101); For documentation on this error, please visit: https://www.selenium.dev/documentation/webdriver/troubleshooting/errors#invalidsessionidexception\nStacktrace:\n\tGetHandleVerifier [0x0xb51a33+62339]\n\tGetHandleVerifier [0x0xb51a74+62404]\n\t(No symbol) [0x0x992123]\n\t(No symbol) [0x0x9820b0]\n\t(No symbol) [0x0x982036]\n\t(No symbol) [0x0x980953]\n\t(No symbol) [0x0x98161d]\n\t(No symbol) [0x0x9a43aa]\n\t(No symbol) [0x0x99a84d]\n\t(No symbol) [0x0x99a772]\n\t(No symbol) [0x0x98eb24]\n\t(No symbol) [0x0x98e5c9]\n\t(No symbol) [0x0x99f285]\n\t(No symbol) [0x0x9a4cc6]\n\t(No symbol) [0x0x981c5d]\n\t(No symbol) [0x0x99eb13]\n\t(No symbol) [0x0xa20a85]\n\t(No symbol) [0x0x9ff1b6]\n\t(No symbol) [0x0x9ce7a2]\n\t(No symbol) [0x0x9cf644]\n\tGetHandleVerifier [0x0xdc65c3+2637587]\n\tGetHandleVerifier [0x0xdc19ca+2618138]\n\tGetHandleVerifier [0x0xb784aa+220666]\n\tGetHandleVerifier [0x0xb688d8+156200]\n\tGetHandleVerifier [0x0xb6f06d+182717]\n\tGetHandleVerifier [0x0xb59978+94920]\n\tGetHandleVerifier [0x0xb59b02+95314]\n\tGetHandleVerifier [0x0xb44c4a+9626]\n\tBaseThreadInitThunk [0x0x76a36ba9+25]\n\tRtlGetFullPathName_UEx [0x0x77948f9f+1215]\n\tRtlGetFullPathName_UEx [0x0x77948f6d+1165]\n",
     "output_type": "error",
     "traceback": [
      "\u001b[31m---------------------------------------------------------------------------\u001b[39m",
      "\u001b[31mInvalidSessionIdException\u001b[39m                 Traceback (most recent call last)",
      "\u001b[36mCell\u001b[39m\u001b[36m \u001b[39m\u001b[32mIn[3]\u001b[39m\u001b[32m, line 5\u001b[39m\n\u001b[32m      2\u001b[39m options.headless = \u001b[38;5;28;01mFalse\u001b[39;00m  \u001b[38;5;66;03m# Nên chạy có giao diện để tránh bị chặn\u001b[39;00m\n\u001b[32m      4\u001b[39m driver = uc.Chrome(options=options)\n\u001b[32m----> \u001b[39m\u001b[32m5\u001b[39m \u001b[43mdriver\u001b[49m\u001b[43m.\u001b[49m\u001b[43mget\u001b[49m\u001b[43m(\u001b[49m\u001b[33;43m\"\u001b[39;49m\u001b[33;43mhttps://vn.investing.com/\u001b[39;49m\u001b[33;43m\"\u001b[39;49m\u001b[43m)\u001b[49m\n\u001b[32m      8\u001b[39m input_element = driver.find_element(By.NAME, \u001b[33m\"\u001b[39m\u001b[33mq\u001b[39m\u001b[33m\"\u001b[39m)\n\u001b[32m      9\u001b[39m input_element.send_keys(\u001b[33m\"\u001b[39m\u001b[33mSHB\u001b[39m\u001b[33m\"\u001b[39m+Keys.ENTER )  \u001b[38;5;66;03m# Nhập mã cổ phiếu SHB\u001b[39;00m\n",
      "\u001b[36mFile \u001b[39m\u001b[32me:\\DL\\myenv\\Lib\\site-packages\\undetected_chromedriver\\__init__.py:665\u001b[39m, in \u001b[36mChrome.get\u001b[39m\u001b[34m(self, url)\u001b[39m\n\u001b[32m    662\u001b[39m \u001b[38;5;28;01mdef\u001b[39;00m\u001b[38;5;250m \u001b[39m\u001b[34mget\u001b[39m(\u001b[38;5;28mself\u001b[39m, url):\n\u001b[32m    663\u001b[39m     \u001b[38;5;66;03m# if self._get_cdc_props():\u001b[39;00m\n\u001b[32m    664\u001b[39m     \u001b[38;5;66;03m#     self._hook_remove_cdc_props()\u001b[39;00m\n\u001b[32m--> \u001b[39m\u001b[32m665\u001b[39m     \u001b[38;5;28;01mreturn\u001b[39;00m \u001b[38;5;28;43msuper\u001b[39;49m\u001b[43m(\u001b[49m\u001b[43m)\u001b[49m\u001b[43m.\u001b[49m\u001b[43mget\u001b[49m\u001b[43m(\u001b[49m\u001b[43murl\u001b[49m\u001b[43m)\u001b[49m\n",
      "\u001b[36mFile \u001b[39m\u001b[32me:\\DL\\myenv\\Lib\\site-packages\\selenium\\webdriver\\remote\\webdriver.py:479\u001b[39m, in \u001b[36mWebDriver.get\u001b[39m\u001b[34m(self, url)\u001b[39m\n\u001b[32m    461\u001b[39m \u001b[38;5;28;01mdef\u001b[39;00m\u001b[38;5;250m \u001b[39m\u001b[34mget\u001b[39m(\u001b[38;5;28mself\u001b[39m, url: \u001b[38;5;28mstr\u001b[39m) -> \u001b[38;5;28;01mNone\u001b[39;00m:\n\u001b[32m    462\u001b[39m \u001b[38;5;250m    \u001b[39m\u001b[33;03m\"\"\"Navigate the browser to the specified URL in the current window or\u001b[39;00m\n\u001b[32m    463\u001b[39m \u001b[33;03m    tab.\u001b[39;00m\n\u001b[32m    464\u001b[39m \n\u001b[32m   (...)\u001b[39m\u001b[32m    477\u001b[39m \u001b[33;03m    >>> driver.get(\"https://example.com\")\u001b[39;00m\n\u001b[32m    478\u001b[39m \u001b[33;03m    \"\"\"\u001b[39;00m\n\u001b[32m--> \u001b[39m\u001b[32m479\u001b[39m     \u001b[38;5;28;43mself\u001b[39;49m\u001b[43m.\u001b[49m\u001b[43mexecute\u001b[49m\u001b[43m(\u001b[49m\u001b[43mCommand\u001b[49m\u001b[43m.\u001b[49m\u001b[43mGET\u001b[49m\u001b[43m,\u001b[49m\u001b[43m \u001b[49m\u001b[43m{\u001b[49m\u001b[33;43m\"\u001b[39;49m\u001b[33;43murl\u001b[39;49m\u001b[33;43m\"\u001b[39;49m\u001b[43m:\u001b[49m\u001b[43m \u001b[49m\u001b[43murl\u001b[49m\u001b[43m}\u001b[49m\u001b[43m)\u001b[49m\n",
      "\u001b[36mFile \u001b[39m\u001b[32me:\\DL\\myenv\\Lib\\site-packages\\selenium\\webdriver\\remote\\webdriver.py:454\u001b[39m, in \u001b[36mWebDriver.execute\u001b[39m\u001b[34m(self, driver_command, params)\u001b[39m\n\u001b[32m    451\u001b[39m response = cast(RemoteConnection, \u001b[38;5;28mself\u001b[39m.command_executor).execute(driver_command, params)\n\u001b[32m    453\u001b[39m \u001b[38;5;28;01mif\u001b[39;00m response:\n\u001b[32m--> \u001b[39m\u001b[32m454\u001b[39m     \u001b[38;5;28;43mself\u001b[39;49m\u001b[43m.\u001b[49m\u001b[43merror_handler\u001b[49m\u001b[43m.\u001b[49m\u001b[43mcheck_response\u001b[49m\u001b[43m(\u001b[49m\u001b[43mresponse\u001b[49m\u001b[43m)\u001b[49m\n\u001b[32m    455\u001b[39m     response[\u001b[33m\"\u001b[39m\u001b[33mvalue\u001b[39m\u001b[33m\"\u001b[39m] = \u001b[38;5;28mself\u001b[39m._unwrap_value(response.get(\u001b[33m\"\u001b[39m\u001b[33mvalue\u001b[39m\u001b[33m\"\u001b[39m, \u001b[38;5;28;01mNone\u001b[39;00m))\n\u001b[32m    456\u001b[39m     \u001b[38;5;28;01mreturn\u001b[39;00m response\n",
      "\u001b[36mFile \u001b[39m\u001b[32me:\\DL\\myenv\\Lib\\site-packages\\selenium\\webdriver\\remote\\errorhandler.py:232\u001b[39m, in \u001b[36mErrorHandler.check_response\u001b[39m\u001b[34m(self, response)\u001b[39m\n\u001b[32m    230\u001b[39m         alert_text = value[\u001b[33m\"\u001b[39m\u001b[33malert\u001b[39m\u001b[33m\"\u001b[39m].get(\u001b[33m\"\u001b[39m\u001b[33mtext\u001b[39m\u001b[33m\"\u001b[39m)\n\u001b[32m    231\u001b[39m     \u001b[38;5;28;01mraise\u001b[39;00m exception_class(message, screen, stacktrace, alert_text)  \u001b[38;5;66;03m# type: ignore[call-arg]  # mypy is not smart enough here\u001b[39;00m\n\u001b[32m--> \u001b[39m\u001b[32m232\u001b[39m \u001b[38;5;28;01mraise\u001b[39;00m exception_class(message, screen, stacktrace)\n",
      "\u001b[31mInvalidSessionIdException\u001b[39m: Message: invalid session id: session deleted as the browser has closed the connection\nfrom disconnected: unable to send message to renderer\n  (Session info: chrome=138.0.7204.101); For documentation on this error, please visit: https://www.selenium.dev/documentation/webdriver/troubleshooting/errors#invalidsessionidexception\nStacktrace:\n\tGetHandleVerifier [0x0xb51a33+62339]\n\tGetHandleVerifier [0x0xb51a74+62404]\n\t(No symbol) [0x0x992123]\n\t(No symbol) [0x0x9820b0]\n\t(No symbol) [0x0x982036]\n\t(No symbol) [0x0x980953]\n\t(No symbol) [0x0x98161d]\n\t(No symbol) [0x0x9a43aa]\n\t(No symbol) [0x0x99a84d]\n\t(No symbol) [0x0x99a772]\n\t(No symbol) [0x0x98eb24]\n\t(No symbol) [0x0x98e5c9]\n\t(No symbol) [0x0x99f285]\n\t(No symbol) [0x0x9a4cc6]\n\t(No symbol) [0x0x981c5d]\n\t(No symbol) [0x0x99eb13]\n\t(No symbol) [0x0xa20a85]\n\t(No symbol) [0x0x9ff1b6]\n\t(No symbol) [0x0x9ce7a2]\n\t(No symbol) [0x0x9cf644]\n\tGetHandleVerifier [0x0xdc65c3+2637587]\n\tGetHandleVerifier [0x0xdc19ca+2618138]\n\tGetHandleVerifier [0x0xb784aa+220666]\n\tGetHandleVerifier [0x0xb688d8+156200]\n\tGetHandleVerifier [0x0xb6f06d+182717]\n\tGetHandleVerifier [0x0xb59978+94920]\n\tGetHandleVerifier [0x0xb59b02+95314]\n\tGetHandleVerifier [0x0xb44c4a+9626]\n\tBaseThreadInitThunk [0x0x76a36ba9+25]\n\tRtlGetFullPathName_UEx [0x0x77948f9f+1215]\n\tRtlGetFullPathName_UEx [0x0x77948f6d+1165]\n"
     ]
    }
   ],
   "source": [
    "\n",
    "options = uc.ChromeOptions()\n",
    "options.headless = False  # Nên chạy có giao diện để tránh bị chặn\n",
    "\n",
    "driver = uc.Chrome(options=options)\n",
    "driver.get(\"https://vn.investing.com/\")\n",
    "\n",
    "\n",
    "input_element = driver.find_element(By.NAME, \"q\")\n",
    "input_element.send_keys(\"SHB\"+Keys.ENTER )  # Nhập mã cổ phiếu SHB\n",
    "element = WebDriverWait(driver, 10).until(\n",
    "    EC.presence_of_element_located((By.CSS_SELECTOR, \"a.js-inner-all-results-quote-item.row\"))\n",
    ")\n",
    "element.click()\n",
    "element = WebDriverWait(driver, 15).until(\n",
    "    EC.presence_of_element_located((By.CSS_SELECTOR, \"[data-test='Dữ liệu Lịch sử']\"))\n",
    ")\n",
    "print(\"Hiển thị:\", element.is_displayed())\n",
    "print(\"Có thể click:\", element.is_enabled())\n",
    "driver.execute_script(\"arguments[0].scrollIntoView(true);\", element)\n",
    "driver.execute_script(\"arguments[0].click();\", element)\n",
    "\n",
    "\n",
    "# input_element = driver.find_element(By.CLASS_NAME, \".h-4.w-4\")\n",
    "# input_element.send_keys(Keys.ENTER )  \n",
    "# # Chờ trang tải\n",
    "# WebDriverWait(driver, 10).until(\n",
    "#     EC.element_to_be_clickable((By.CSS_SELECTOR, \".NativeDateInputV2_root__uAIu0.relative.flex.flex-1.items-center.gap-3\\\\.5.rounded.border.border-solid.bg-white.px-3\\\\.5.py-2.shadow-select\"))\n",
    "# ).click()\n",
    "\n",
    "# # Lùi lại 4 tháng bằng cách click nút mũi tên trái\n",
    "# for _ in range(4):\n",
    "#     prev_button = WebDriverWait(driver, 10).until(\n",
    "#         EC.element_to_be_clickable((By.CSS_SELECTOR, \".prev\"))\n",
    "#     )\n",
    "#     prev_button.click()\n",
    "#     time.sleep(1)\n",
    "\n",
    "# # Tính ngày cần chọn\n",
    "# target_date = datetime.today().replace(day=1) - timedelta(days=1)\n",
    "# target_date = target_date.replace(day=datetime.today().day)\n",
    "# target_day = target_date.day\n",
    "\n",
    "# # Click vào ngày mong muốn\n",
    "# days = driver.find_elements(By.CSS_SELECTOR, \".day\")\n",
    "# for day in days:\n",
    "#     if day.text == str(target_day):\n",
    "#         day.click()\n",
    "#         break\n",
    "\n",
    "\n",
    "\n",
    "time.sleep(5)  # Chờ trang tải xong\n",
    "driver.quit()\n",
    "\n"
   ]
  }
 ],
 "metadata": {
  "kernelspec": {
   "display_name": "myenv",
   "language": "python",
   "name": "python3"
  },
  "language_info": {
   "codemirror_mode": {
    "name": "ipython",
    "version": 3
   },
   "file_extension": ".py",
   "mimetype": "text/x-python",
   "name": "python",
   "nbconvert_exporter": "python",
   "pygments_lexer": "ipython3",
   "version": "3.12.6"
  }
 },
 "nbformat": 4,
 "nbformat_minor": 5
}
